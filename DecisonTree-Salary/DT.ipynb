{
 "cells": [
  {
   "cell_type": "code",
   "execution_count": 1,
   "metadata": {},
   "outputs": [],
   "source": [
    "import pandas as pd\n",
    "import numpy as np\n",
    "import matplotlib.pyplot as plt\n",
    "%matplotlib inline"
   ]
  },
  {
   "cell_type": "code",
   "execution_count": 2,
   "metadata": {},
   "outputs": [
    {
     "output_type": "execute_result",
     "data": {
      "text/plain": "  company                  job     degree  salary_more_then_100k\n0  google      sales executive  bachelors                      0\n1  google      sales executive    masters                      0\n2  google     business manager  bachelors                      1\n3  google     business manager    masters                      1\n4  google  computer programmer  bachelors                      0",
      "text/html": "<div>\n<style scoped>\n    .dataframe tbody tr th:only-of-type {\n        vertical-align: middle;\n    }\n\n    .dataframe tbody tr th {\n        vertical-align: top;\n    }\n\n    .dataframe thead th {\n        text-align: right;\n    }\n</style>\n<table border=\"1\" class=\"dataframe\">\n  <thead>\n    <tr style=\"text-align: right;\">\n      <th></th>\n      <th>company</th>\n      <th>job</th>\n      <th>degree</th>\n      <th>salary_more_then_100k</th>\n    </tr>\n  </thead>\n  <tbody>\n    <tr>\n      <th>0</th>\n      <td>google</td>\n      <td>sales executive</td>\n      <td>bachelors</td>\n      <td>0</td>\n    </tr>\n    <tr>\n      <th>1</th>\n      <td>google</td>\n      <td>sales executive</td>\n      <td>masters</td>\n      <td>0</td>\n    </tr>\n    <tr>\n      <th>2</th>\n      <td>google</td>\n      <td>business manager</td>\n      <td>bachelors</td>\n      <td>1</td>\n    </tr>\n    <tr>\n      <th>3</th>\n      <td>google</td>\n      <td>business manager</td>\n      <td>masters</td>\n      <td>1</td>\n    </tr>\n    <tr>\n      <th>4</th>\n      <td>google</td>\n      <td>computer programmer</td>\n      <td>bachelors</td>\n      <td>0</td>\n    </tr>\n  </tbody>\n</table>\n</div>"
     },
     "metadata": {},
     "execution_count": 2
    }
   ],
   "source": [
    "df = pd.read_csv('salaries.csv')\n",
    "df.head()"
   ]
  },
  {
   "cell_type": "code",
   "execution_count": 3,
   "metadata": {},
   "outputs": [],
   "source": [
    "inputs = df.drop('salary_more_then_100k', axis='columns')\n",
    "target = df['salary_more_then_100k']"
   ]
  },
  {
   "cell_type": "code",
   "execution_count": 5,
   "metadata": {},
   "outputs": [
    {
     "output_type": "execute_result",
     "data": {
      "text/plain": "       company                  job     degree\n0       google      sales executive  bachelors\n1       google      sales executive    masters\n2       google     business manager  bachelors\n3       google     business manager    masters\n4       google  computer programmer  bachelors\n5       google  computer programmer    masters\n6   abc pharma      sales executive    masters\n7   abc pharma  computer programmer  bachelors\n8   abc pharma     business manager  bachelors\n9   abc pharma     business manager    masters\n10    facebook      sales executive  bachelors\n11    facebook      sales executive    masters\n12    facebook     business manager  bachelors\n13    facebook     business manager    masters\n14    facebook  computer programmer  bachelors\n15    facebook  computer programmer    masters",
      "text/html": "<div>\n<style scoped>\n    .dataframe tbody tr th:only-of-type {\n        vertical-align: middle;\n    }\n\n    .dataframe tbody tr th {\n        vertical-align: top;\n    }\n\n    .dataframe thead th {\n        text-align: right;\n    }\n</style>\n<table border=\"1\" class=\"dataframe\">\n  <thead>\n    <tr style=\"text-align: right;\">\n      <th></th>\n      <th>company</th>\n      <th>job</th>\n      <th>degree</th>\n    </tr>\n  </thead>\n  <tbody>\n    <tr>\n      <th>0</th>\n      <td>google</td>\n      <td>sales executive</td>\n      <td>bachelors</td>\n    </tr>\n    <tr>\n      <th>1</th>\n      <td>google</td>\n      <td>sales executive</td>\n      <td>masters</td>\n    </tr>\n    <tr>\n      <th>2</th>\n      <td>google</td>\n      <td>business manager</td>\n      <td>bachelors</td>\n    </tr>\n    <tr>\n      <th>3</th>\n      <td>google</td>\n      <td>business manager</td>\n      <td>masters</td>\n    </tr>\n    <tr>\n      <th>4</th>\n      <td>google</td>\n      <td>computer programmer</td>\n      <td>bachelors</td>\n    </tr>\n    <tr>\n      <th>5</th>\n      <td>google</td>\n      <td>computer programmer</td>\n      <td>masters</td>\n    </tr>\n    <tr>\n      <th>6</th>\n      <td>abc pharma</td>\n      <td>sales executive</td>\n      <td>masters</td>\n    </tr>\n    <tr>\n      <th>7</th>\n      <td>abc pharma</td>\n      <td>computer programmer</td>\n      <td>bachelors</td>\n    </tr>\n    <tr>\n      <th>8</th>\n      <td>abc pharma</td>\n      <td>business manager</td>\n      <td>bachelors</td>\n    </tr>\n    <tr>\n      <th>9</th>\n      <td>abc pharma</td>\n      <td>business manager</td>\n      <td>masters</td>\n    </tr>\n    <tr>\n      <th>10</th>\n      <td>facebook</td>\n      <td>sales executive</td>\n      <td>bachelors</td>\n    </tr>\n    <tr>\n      <th>11</th>\n      <td>facebook</td>\n      <td>sales executive</td>\n      <td>masters</td>\n    </tr>\n    <tr>\n      <th>12</th>\n      <td>facebook</td>\n      <td>business manager</td>\n      <td>bachelors</td>\n    </tr>\n    <tr>\n      <th>13</th>\n      <td>facebook</td>\n      <td>business manager</td>\n      <td>masters</td>\n    </tr>\n    <tr>\n      <th>14</th>\n      <td>facebook</td>\n      <td>computer programmer</td>\n      <td>bachelors</td>\n    </tr>\n    <tr>\n      <th>15</th>\n      <td>facebook</td>\n      <td>computer programmer</td>\n      <td>masters</td>\n    </tr>\n  </tbody>\n</table>\n</div>"
     },
     "metadata": {},
     "execution_count": 5
    }
   ],
   "source": [
    "from sklearn.preprocessing import LabelEncoder\n",
    "LabelEncoder('')"
   ]
  },
  {
   "cell_type": "code",
   "execution_count": null,
   "metadata": {},
   "outputs": [],
   "source": []
  }
 ],
 "metadata": {
  "language_info": {
   "codemirror_mode": {
    "name": "ipython",
    "version": 3
   },
   "file_extension": ".py",
   "mimetype": "text/x-python",
   "name": "python",
   "nbconvert_exporter": "python",
   "pygments_lexer": "ipython3",
   "version": "3.6.7-final"
  },
  "orig_nbformat": 2,
  "kernelspec": {
   "name": "python36764bit663d9f7588c24f6399348da9925e0f7f",
   "display_name": "Python 3.6.7 64-bit"
  }
 },
 "nbformat": 4,
 "nbformat_minor": 2
}